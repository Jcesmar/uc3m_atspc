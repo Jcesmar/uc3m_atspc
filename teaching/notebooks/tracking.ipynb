{
 "cells": [
  {
   "cell_type": "code",
   "execution_count": null,
   "metadata": {},
   "outputs": [],
   "source": [
    "import itertools\n",
    "import ipywidgets as widgets\n",
    "\n",
    "import numpy as np\n",
    "from ipycanvas import Canvas, MultiCanvas\n",
    "\n",
    "import bokeh\n",
    "from bokeh.io import output_notebook, show, push_notebook\n",
    "\n",
    "output_notebook(bokeh.resources.INLINE)\n",
    "\n",
    "from bokeh.models import ColumnDataSource, Circle, Line\n",
    "import bokeh.plotting"
   ]
  },
  {
   "cell_type": "markdown",
   "metadata": {},
   "source": [
    "Some parameters that can be tweaked (carefully, though)"
   ]
  },
  {
   "cell_type": "code",
   "execution_count": null,
   "metadata": {},
   "outputs": [],
   "source": [
    "width, height = 800, 600 # in pixels\n",
    "n_sensors = 4\n",
    "\n",
    "# horizontal_padding = 50 # in pixels\n",
    "horizontal_padding = 100 # in pixels\n",
    "vertical_padding = horizontal_padding\n",
    "\n",
    "# the smaller, the easier the sensors get activated\n",
    "obs_to_angle_sensitivity = 0.25\n",
    "\n",
    "# tx_power = 1e3\n",
    "tx_power = 2e3\n",
    "\n",
    "sensors_fill_color = 'red'\n",
    "position_fill_color = 'green'"
   ]
  },
  {
   "cell_type": "markdown",
   "metadata": {},
   "source": [
    "Related to the model"
   ]
  },
  {
   "cell_type": "code",
   "execution_count": null,
   "metadata": {},
   "outputs": [],
   "source": [
    "def obs(x_1: int, y_1: int, x_2: int, y_2) -> float:\n",
    "    \"\"\"\n",
    "        Computes an observation given the x and y coordinates for two different positions.\n",
    "    \n",
    "    \"\"\"\n",
    "    \n",
    "    return tx_power / np.sqrt((x_1 - x_2)**2 + (y_1 - y_2)**2)"
   ]
  },
  {
   "cell_type": "markdown",
   "metadata": {},
   "source": [
    "Functions to go from the model to the *canvas*"
   ]
  },
  {
   "cell_type": "code",
   "execution_count": null,
   "metadata": {},
   "outputs": [],
   "source": [
    "def obs_to_angle(obs: float) -> float:\n",
    "    \"\"\"\n",
    "        Turns a measure into an angle in radians.\n",
    "    \n",
    "    \"\"\"\n",
    "    \n",
    "    return ((1. / (1. + np.exp(-obs_to_angle_sensitivity*obs))) - 0.5) / (1 - 0.5) * 2*np.pi"
   ]
  },
  {
   "cell_type": "markdown",
   "metadata": {},
   "source": [
    "# Preliminary computations"
   ]
  },
  {
   "cell_type": "code",
   "execution_count": null,
   "metadata": {},
   "outputs": [],
   "source": [
    "# number of sensors per axis\n",
    "n_sensors_per_axis = int(np.sqrt(n_sensors))\n",
    "\n",
    "# all the x coordinates of the sensors...\n",
    "sensors_x_coordinates = np.linspace(horizontal_padding, width-horizontal_padding, n_sensors_per_axis)\n",
    "\n",
    "# ...and all the y's\n",
    "sensors_y_coordinates = np.linspace(vertical_padding, height-vertical_padding, n_sensors_per_axis)\n",
    "\n",
    "# a list of tuples with the resulting positions\n",
    "sensors_coordinates = list(itertools.product(sensors_x_coordinates, sensors_y_coordinates))\n",
    "\n",
    "n_sensors = len(sensors_coordinates)"
   ]
  },
  {
   "cell_type": "markdown",
   "metadata": {},
   "source": [
    "*Global* variables are used to keep track of the clicked positions."
   ]
  },
  {
   "cell_type": "code",
   "execution_count": null,
   "metadata": {},
   "outputs": [],
   "source": [
    "target_position = []\n",
    "observations = []"
   ]
  },
  {
   "cell_type": "markdown",
   "metadata": {},
   "source": [
    "# Canvas setup"
   ]
  },
  {
   "cell_type": "code",
   "execution_count": null,
   "metadata": {},
   "outputs": [],
   "source": [
    "# canvas\n",
    "canvas = MultiCanvas(n_canvases=2, width=800, height=600)\n",
    "\n",
    "# default style settings\n",
    "canvas[0].fill_style = sensors_fill_color\n",
    "canvas[0].stroke_style = 'blue'"
   ]
  },
  {
   "cell_type": "markdown",
   "metadata": {},
   "source": [
    "Handler for when mouse is *un-clicked*"
   ]
  },
  {
   "cell_type": "code",
   "execution_count": null,
   "metadata": {},
   "outputs": [],
   "source": [
    "def handle_mouse_up(x, y):\n",
    "    \n",
    "    target_position.append((x,y))\n",
    "    \n",
    "    # a squared dot representing the clicked position\n",
    "    canvas[1].fill_style = position_fill_color\n",
    "    canvas[1].fill_rect(x, y, 10, 10)\n",
    "    \n",
    "#     print(sensors_coordinates)\n",
    "    \n",
    "    measurements = [None] * n_sensors\n",
    "    \n",
    "    for i_sensor, (x_sensor, y_sensor) in enumerate(sensors_coordinates):\n",
    "        \n",
    "        # the previous filling is \"erased\n",
    "        canvas[1].fill_style = 'white'\n",
    "        canvas[1].fill_arc(x_sensor, y_sensor, 19, 0, 2*np.pi)\n",
    "        \n",
    "        measurements[i_sensor] = obs(x, y, x_sensor, y_sensor)\n",
    "        \n",
    "        # new filling\n",
    "        canvas[1].fill_style = sensors_fill_color\n",
    "        canvas[1].fill_arc(x_sensor, y_sensor, 19, 0, obs_to_angle(measurements[i_sensor]))\n",
    "    \n",
    "    # the new list with measurements from all the sensors is appended to previous observations\n",
    "    observations.append(measurements)\n",
    "    \n",
    "    # for the sake of convenience\n",
    "    observations_np = np.array(observations)\n",
    "    \n",
    "    x = np.arange(observations_np.shape[0])\n",
    "\n",
    "    # for every plot source and handler, along with the newly added observations\n",
    "    for source, handler, y in zip(sources, handlers, observations_np.T):\n",
    "        \n",
    "        source.data = {'x':x, 'y':y}\n",
    "        push_notebook(handle=handler)\n",
    "\n",
    "canvas[1].on_mouse_up(handle_mouse_up)"
   ]
  },
  {
   "cell_type": "markdown",
   "metadata": {},
   "source": [
    "Sensors are plotted"
   ]
  },
  {
   "cell_type": "code",
   "execution_count": null,
   "metadata": {},
   "outputs": [],
   "source": [
    "output_plots = []\n",
    "figures, sources = [], []\n",
    "\n",
    "# for every sensor's x-y coordinates\n",
    "for x, y in sensors_coordinates:\n",
    "    \n",
    "    # the sensor is plotted (outlined)\n",
    "    canvas[0].stroke_arc(x, y, 20, 0, 2*np.pi)\n",
    "    \n",
    "    # a new output widget is created for the corresponding plot\n",
    "    output_plots.append(widgets.Output())\n",
    "    \n",
    "    figures.append(bokeh.plotting.figure(plot_width=400, plot_height=300, y_range=(0, 40)))\n",
    "    sources.append(ColumnDataSource(data=dict(x=[0], y=[0])))\n",
    "#     circle = Circle(x=\"x\", y=\"y\", size=15, fill_color=\"blue\", fill_alpha=0.8, line_color=None)\n",
    "#     figures[-1].add_glyph(sources[-1], circle)\n",
    "    line = Line(x=\"x\", y=\"y\")\n",
    "    figures[-1].add_glyph(sources[-1], line)"
   ]
  },
  {
   "cell_type": "code",
   "execution_count": null,
   "metadata": {},
   "outputs": [],
   "source": [
    "columns = []\n",
    "\n",
    "for i in range(0, n_sensors,n_sensors_per_axis):\n",
    "    \n",
    "    columns.append(widgets.VBox(output_plots[i:i+n_sensors_per_axis]))\n",
    "\n",
    "grid = widgets.HBox(columns)"
   ]
  },
  {
   "cell_type": "code",
   "execution_count": null,
   "metadata": {},
   "outputs": [],
   "source": [
    "display(grid)\n",
    "\n",
    "handlers = []\n",
    "\n",
    "for figure, output_plot in zip(figures, output_plots):\n",
    "    \n",
    "    with output_plot:\n",
    "        \n",
    "        handlers.append(show(figure, notebook_handle=True))"
   ]
  },
  {
   "cell_type": "markdown",
   "metadata": {},
   "source": [
    "Handlers"
   ]
  },
  {
   "cell_type": "code",
   "execution_count": null,
   "metadata": {},
   "outputs": [],
   "source": [
    "canvas"
   ]
  }
 ],
 "metadata": {
  "kernelspec": {
   "display_name": "Python 3",
   "language": "python",
   "name": "python3"
  },
  "language_info": {
   "codemirror_mode": {
    "name": "ipython",
    "version": 3
   },
   "file_extension": ".py",
   "mimetype": "text/x-python",
   "name": "python",
   "nbconvert_exporter": "python",
   "pygments_lexer": "ipython3",
   "version": "3.8.1"
  }
 },
 "nbformat": 4,
 "nbformat_minor": 4
}
